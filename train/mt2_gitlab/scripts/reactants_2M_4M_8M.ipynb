{
 "cells": [
  {
   "cell_type": "code",
   "execution_count": null,
   "id": "9b46a2ad-92b5-4100-a037-92d67d25da1e",
   "metadata": {},
   "outputs": [
    {
     "name": "stdout",
     "output_type": "stream",
     "text": [
      "Completet\n"
     ]
    }
   ],
   "source": [
    "# Import packages\n",
    "import pandas as pd\n",
    "import numpy as np\n",
    "import random\n",
    "\n",
    "# Data paths\n",
    "load_path_2M = '../data/MIT_reactants_pred_x5/'\n",
    "load_path_4M = '../data/MIT_reactants_pred_x10_original/'\n",
    "load_path_8M = '../data/MIT_reactants_pred_x10/'\n",
    "save_path_2M = '../data/MIT_reactants_pred_2M_noreagents/'\n",
    "save_path_4M = '../data/MIT_reactants_pred_4M_noreagents/'\n",
    "save_path_8M = '../data/MIT_reactants_pred_8M_noreagents/'\n",
    "\n",
    "# Filetype\n",
    "filetype = 'train'\n",
    "\n",
    "# Load files\n",
    "src_2M = pd.read_csv(load_path_2M + 'src-train.txt', header=None).values.flatten().tolist()\n",
    "tgt_2M = pd.read_csv(load_path_2M + 'tgt-train.txt', header=None).values.flatten().tolist()\n",
    "src_4M = pd.read_csv(load_path_4M + 'src-train.txt', header=None).values.flatten().tolist()\n",
    "tgt_4M = pd.read_csv(load_path_4M + 'tgt-train.txt', header=None).values.flatten().tolist()\n",
    "src_8M = pd.read_csv(load_path_8M + 'src-train.txt', header=None).values.flatten().tolist()\n",
    "tgt_8M = pd.read_csv(load_path_8M + 'tgt-train.txt', header=None).values.flatten().tolist()\n",
    "\n",
    "\"\"\"\n",
    "with open(save_path+\"src-%s.txt\"%(filetype), \"w\") as outfile:\n",
    "    outfile.write(\"\\n\".join(src_shuffled))\n",
    "with open(save_path+\"tgt-%s.txt\"%(filetype), \"w\") as outfile:\n",
    "    outfile.write(\"\\n\".join(tgt_shuffled))\n",
    "\"\"\"\n",
    "\n",
    "print('Complete')"
   ]
  },
  {
   "cell_type": "code",
   "execution_count": 13,
   "id": "c56149f2-a418-4054-b976-aacee5734117",
   "metadata": {},
   "outputs": [],
   "source": [
    "src_2M_noreagents = []\n",
    "src_4M_noreagents = []\n",
    "src_8M_noreagents = []\n",
    "for reaction in src_2M:\n",
    "    src_2M_noreagents.append(reaction.split(' . ')[-1])\n",
    "for reaction in src_4M:\n",
    "    src_4M_noreagents.append(reaction.split(' . ')[-1])\n",
    "for reaction in src_8M:\n",
    "    src_8M_noreagents.append(reaction.split(' . ')[-1])"
   ]
  },
  {
   "cell_type": "code",
   "execution_count": 17,
   "id": "13ab27bf-f471-4c15-8a6e-5d699df27c98",
   "metadata": {},
   "outputs": [],
   "source": [
    "with open(save_path_2M+\"src-%s.txt\"%(filetype), \"w\") as outfile:\n",
    "    outfile.write(\"\\n\".join(src_2M_noreagents))\n",
    "with open(save_path_4M+\"src-%s.txt\"%(filetype), \"w\") as outfile:\n",
    "    outfile.write(\"\\n\".join(src_4M_noreagents))\n",
    "with open(save_path_8M+\"src-%s.txt\"%(filetype), \"w\") as outfile:\n",
    "    outfile.write(\"\\n\".join(src_8M_noreagents))"
   ]
  }
 ],
 "metadata": {
  "kernelspec": {
   "display_name": "Python 3 (ipykernel)",
   "language": "python",
   "name": "python3"
  },
  "language_info": {
   "codemirror_mode": {
    "name": "ipython",
    "version": 3
   },
   "file_extension": ".py",
   "mimetype": "text/x-python",
   "name": "python",
   "nbconvert_exporter": "python",
   "pygments_lexer": "ipython3",
   "version": "3.8.12"
  }
 },
 "nbformat": 4,
 "nbformat_minor": 5
}
