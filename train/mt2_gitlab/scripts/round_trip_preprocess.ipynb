{
 "cells": [
  {
   "cell_type": "code",
   "execution_count": 22,
   "id": "cd386d97-7038-453b-83a4-3775672413c5",
   "metadata": {},
   "outputs": [],
   "source": [
    "# Load data science packages\n",
    "import numpy as np\n",
    "import pandas as pd\n",
    "\n",
    "# Load argument packages\n",
    "import argparse\n",
    "import re\n",
    "\n",
    "# Load chemistry packages\n",
    "import rdkit.Chem as Chem\n",
    "import rdkit.Chem.AllChem as AllChem\n",
    "from rdkit.Chem.Draw import IPythonConsole \n",
    "from rdkit.Chem.Draw.MolDrawing import MolDrawing, DrawingOptions\n",
    "from rdkit.Chem import PandasTools\n",
    "from rdkit import RDLogger                                                                                                                                                               \n",
    "\n",
    "RDLogger.DisableLog('rdApp.*')\n",
    "PandasTools.RenderImagesInAllDataFrames(images=True)\n",
    "\n",
    "# Load visualization package and display settings\n",
    "import matplotlib.pyplot as plt\n",
    "IPythonConsole.molSize = (1000, 300)   # Change image size\n",
    "IPythonConsole.ipython_useSVG = False  # Show as PNG\n",
    "\n",
    "path_src  = '../data/MIT_reactants_pred_x10/src-test.txt'\n",
    "path_tgt  = '../data/MIT_reactants_pred_x10/tgt-test.txt'\n",
    "path_pred = '../results/predictions_MIT_reactants_pred_x10_model_average_20_on_MIT_reactants_pred_x10_test.txt'\n",
    "# Load data\n",
    "src  = pd.read_csv(path_src, header=None).replace('\\s+', '', regex=True).values.flatten().tolist()\n",
    "pred = pd.read_csv(path_pred, header=None).replace('\\s+', '', regex=True).values.flatten().tolist()\n",
    "tgt  = pd.read_csv(path_tgt, header=None).replace('\\s+', '', regex=True).values.flatten().tolist()\n",
    "\n",
    "# From SMILES to tokens\n",
    "def smi_tokenizer(smi):\n",
    "    \"\"\"\n",
    "    Tokenize a SMILES molecule or reaction\n",
    "    \"\"\"\n",
    "    pattern =  \"(\\[[^\\]]+]|Br?|Cl?|N|O|S|P|F|I|b|c|n|o|s|p|\\(|\\)|\\.|=|#|-|\\+|\\\\\\\\|\\/|:|~|@|\\?|>|\\*|\\$|\\%[0-9]{2}|[0-9])\"\n",
    "    regex = re.compile(pattern)\n",
    "    tokens = [token for token in regex.findall(smi)]\n",
    "    assert smi == ''.join(tokens)\n",
    "    return ' '.join(tokens)\n",
    "\n",
    "# SMILES functions\n",
    "canonicalize_smi = lambda smi: 'NA' if not Chem.MolFromSmiles(smi) else Chem.MolToSmiles(Chem.MolFromSmiles(smi))\n",
    "equivalent_smi   = lambda smi: 'NA' if not Chem.MolFromSmiles(smi) else Chem.MolToSmiles(Chem.MolFromSmiles(smi), doRandom=True)\n",
    "\n",
    "# Create round trip dataset, 'pred_reactiants.reagents'\n",
    "round_trip_src = []\n",
    "round_trip_tgt = []\n",
    "for i, s in enumerate(src):\n",
    "    reactants = pred[i]\n",
    "    product   = s.split('.')[-1]\n",
    "    reagents  = [n for n in s.split('.') if n != product]\n",
    "    if len(reagents) > 0:\n",
    "        round_trip_src.append(reactants + '.' + '.'.join(reagents))\n",
    "    else:\n",
    "        round_trip_src.append(reactants)\n",
    "    round_trip_tgt.append(product)"
   ]
  },
  {
   "cell_type": "code",
   "execution_count": 23,
   "id": "917fbcb0-9129-43ca-8ee4-ff4888b67ec5",
   "metadata": {},
   "outputs": [],
   "source": [
    "save_path = '../data/round_trip/'\n",
    "with open(save_path+'src-rt-8M.txt', 'w+') as f:\n",
    "    for r in round_trip_src:\n",
    "        f.write(\"%s\\n\" % (smi_tokenizer(r)))\n",
    "with open(save_path+'tgt-rt-8M.txt', 'w+') as f:\n",
    "    for r in round_trip_tgt:\n",
    "        f.write(\"%s\\n\" % (smi_tokenizer(r)))"
   ]
  },
  {
   "cell_type": "code",
   "execution_count": null,
   "id": "b3606a7e-cf43-4f89-903f-a0c3551f5d76",
   "metadata": {},
   "outputs": [],
   "source": []
  }
 ],
 "metadata": {
  "kernelspec": {
   "display_name": "Python 3 (ipykernel)",
   "language": "python",
   "name": "python3"
  },
  "language_info": {
   "codemirror_mode": {
    "name": "ipython",
    "version": 3
   },
   "file_extension": ".py",
   "mimetype": "text/x-python",
   "name": "python",
   "nbconvert_exporter": "python",
   "pygments_lexer": "ipython3",
   "version": "3.8.12"
  }
 },
 "nbformat": 4,
 "nbformat_minor": 5
}
