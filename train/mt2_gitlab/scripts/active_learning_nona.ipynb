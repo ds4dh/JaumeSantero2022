{
 "cells": [
  {
   "cell_type": "code",
   "execution_count": 1,
   "id": "2fec6e41-0499-4926-9981-1d79a7c5865b",
   "metadata": {},
   "outputs": [],
   "source": [
    "# Load packages\n",
    "import numpy as np\n",
    "import pandas as pd\n",
    "\n",
    "# From SMILES to tokens\n",
    "def smi_tokenizer(smi):\n",
    "    \"\"\"\n",
    "    Tokenize a SMILES molecule or reaction\n",
    "    \"\"\"\n",
    "    pattern =  \"(\\[[^\\]]+]|Br?|Cl?|N|O|S|P|F|I|b|c|n|o|s|p|\\(|\\)|\\.|=|#|-|\\+|\\\\\\\\|\\/|:|~|@|\\?|>|\\*|\\$|\\%[0-9]{2}|[0-9])\"\n",
    "    regex = re.compile(pattern)\n",
    "    tokens = [token for token in regex.findall(smi)]\n",
    "    assert smi == ''.join(tokens)\n",
    "    return ' '.join(tokens)\n",
    "\n",
    "# From tokens to SMILES\n",
    "def smi_detokenizer(smi):\n",
    "    return smi.replace(' ', '')\n",
    "\n",
    "# Load tgt and src files\n",
    "path_src_train  = '../data/MIT_active_learning/src-train.txt'\n",
    "path_tgt_train  = '../data/MIT_active_learning/tgt-train.txt'\n",
    "path_src_active = '../data/MIT_active_learning/src-active.txt'\n",
    "path_tgt_active = '../data/MIT_active_learning/tgt-active.txt'\n",
    "src_train  = pd.read_csv(path_src_train, sep='\\t', header=None).values.flatten().tolist()\n",
    "tgt_train  = pd.read_csv(path_tgt_train, sep='\\t', header=None).values.flatten().tolist()\n",
    "src_active = pd.read_csv(path_src_active, sep='\\t', header=None).values.flatten().tolist()\n",
    "tgt_active = pd.read_csv(path_tgt_active, sep='\\t', header=None).values.flatten().tolist()\n",
    "\n",
    "# Generate reactions\n",
    "reac_active = [smi_detokenizer(src_active[n]) + '>' + smi_detokenizer(tgt_active[n]) for n in range(len(tgt_active))]\n",
    "reac_train  = [smi_detokenizer(src_train[n]) + '>' + smi_detokenizer(tgt_train[n]) for n in range(len(tgt_train))]"
   ]
  },
  {
   "cell_type": "code",
   "execution_count": 3,
   "id": "4f544a19-ad58-4a1b-ac44-4a31ebb17e05",
   "metadata": {},
   "outputs": [],
   "source": [
    "# Save datasets\n",
    "path_to_save = '../data/MIT_active_learning/'\n",
    "with open(path_to_save + 'active_learning_reactions.txt', 'w+') as f:\n",
    "    for item in reac_active:\n",
    "        f.write(\"%s\\n\" % item)\n",
    "with open(path_to_save + 'train_reactions.txt', 'w+') as f:\n",
    "    for item in reac_train:\n",
    "        f.write(\"%s\\n\" % item)"
   ]
  },
  {
   "cell_type": "code",
   "execution_count": 4,
   "id": "5e0a0429-5d99-49e3-9a77-d67f93719d0b",
   "metadata": {},
   "outputs": [],
   "source": [
    "# Load tgt and src files for val and test\n",
    "path_src_val  = '../data/MIT_active_learning/src-val.txt'\n",
    "path_tgt_val  = '../data/MIT_active_learning/tgt-val.txt'\n",
    "path_src_test = '../data/MIT_active_learning/src-test.txt'\n",
    "path_tgt_test = '../data/MIT_active_learning/tgt-test.txt'\n",
    "src_val  = pd.read_csv(path_src_val, sep='\\t', header=None).values.flatten().tolist()\n",
    "tgt_val  = pd.read_csv(path_tgt_val, sep='\\t', header=None).values.flatten().tolist()\n",
    "src_test = pd.read_csv(path_src_test, sep='\\t', header=None).values.flatten().tolist()\n",
    "tgt_test = pd.read_csv(path_tgt_test, sep='\\t', header=None).values.flatten().tolist()\n",
    "\n",
    "# Generate reactions\n",
    "reac_val = [smi_detokenizer(src_val[n]) + '>' + smi_detokenizer(tgt_val[n]) for n in range(len(tgt_val))]\n",
    "reac_test  = [smi_detokenizer(src_test[n]) + '>' + smi_detokenizer(tgt_test[n]) for n in range(len(tgt_test))]"
   ]
  },
  {
   "cell_type": "code",
   "execution_count": 10,
   "id": "b5f6619e-2084-4d68-a828-077e039db2ea",
   "metadata": {},
   "outputs": [],
   "source": [
    "# Save datasets\n",
    "path_to_save = '../data/MIT_active_learning/'\n",
    "with open(path_to_save + 'validation_reactions.txt', 'w+') as f:\n",
    "    for item in reac_val:\n",
    "        f.write(\"%s\\n\" % item)\n",
    "with open(path_to_save + 'test_reactions.txt', 'w+') as f:\n",
    "    for item in reac_test:\n",
    "        f.write(\"%s\\n\" % item)"
   ]
  },
  {
   "cell_type": "code",
   "execution_count": null,
   "id": "164e623f-1c7e-4660-a3c0-650d22a3adb4",
   "metadata": {},
   "outputs": [],
   "source": []
  }
 ],
 "metadata": {
  "kernelspec": {
   "display_name": "Python 3 (ipykernel)",
   "language": "python",
   "name": "python3"
  },
  "language_info": {
   "codemirror_mode": {
    "name": "ipython",
    "version": 3
   },
   "file_extension": ".py",
   "mimetype": "text/x-python",
   "name": "python",
   "nbconvert_exporter": "python",
   "pygments_lexer": "ipython3",
   "version": "3.8.12"
  }
 },
 "nbformat": 4,
 "nbformat_minor": 5
}
