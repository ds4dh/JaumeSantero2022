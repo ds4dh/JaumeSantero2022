{
 "cells": [
  {
   "cell_type": "code",
   "execution_count": 1,
   "id": "9b46a2ad-92b5-4100-a037-92d67d25da1e",
   "metadata": {},
   "outputs": [],
   "source": [
    "# Import packages\n",
    "import pandas as pd\n",
    "import numpy as np\n",
    "import random\n",
    "\n",
    "# Data paths\n",
    "load_path = '../data/MIT_reactants_pred/'\n",
    "save_path = '../data/MIT_reactants_augm_shuffled/'\n",
    "\n",
    "# Filetype\n",
    "filetype = 'train'\n",
    "\n",
    "# Load files\n",
    "src  = pd.read_csv(load_path + 'src-train.txt', header=None).values.flatten().tolist()\n",
    "tgt  = pd.read_csv(load_path + 'tgt-train.txt', header=None).values.flatten().tolist()\n",
    "\n",
    "# Shuffle reactions keeping order between src and tgt\n",
    "def shuffle_reactions(a, b):\n",
    "    c = list(zip(a, b))\n",
    "    random.shuffle(c)\n",
    "    return zip(*c)\n",
    "\n",
    "# Shuffle time!\n",
    "src_shuffled, tgt_shuffled = shuffle_reactions(src, tgt)\n",
    "\n",
    "# Save src and tgt files\n",
    "with open(save_path+\"src-%s.txt\"%(filetype), \"w\") as outfile:\n",
    "    outfile.write(\"\\n\".join(src_shuffled))\n",
    "with open(save_path+\"tgt-%s.txt\"%(filetype), \"w\") as outfile:\n",
    "    outfile.write(\"\\n\".join(tgt_shuffled))"
   ]
  }
 ],
 "metadata": {
  "kernelspec": {
   "display_name": "Python 3 (ipykernel)",
   "language": "python",
   "name": "python3"
  },
  "language_info": {
   "codemirror_mode": {
    "name": "ipython",
    "version": 3
   },
   "file_extension": ".py",
   "mimetype": "text/x-python",
   "name": "python",
   "nbconvert_exporter": "python",
   "pygments_lexer": "ipython3",
   "version": "3.8.12"
  }
 },
 "nbformat": 4,
 "nbformat_minor": 5
}
