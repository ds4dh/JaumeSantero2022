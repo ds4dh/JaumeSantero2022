{
 "cells": [
  {
   "cell_type": "code",
   "execution_count": 1,
   "id": "5bf656ae-4d91-46e9-a227-1ece05398f57",
   "metadata": {},
   "outputs": [],
   "source": [
    "# Load data science packages\n",
    "import numpy as np\n",
    "import pandas as pd\n",
    "\n",
    "# Load argument packages\n",
    "import argparse\n",
    "import re\n",
    "\n",
    "# Load chemistry packages\n",
    "import rdkit.Chem as Chem\n",
    "import rdkit.Chem.AllChem as AllChem\n",
    "from rdkit.Chem.Draw import IPythonConsole \n",
    "from rdkit.Chem.Draw.MolDrawing import MolDrawing, DrawingOptions\n",
    "from rdkit.Chem import PandasTools\n",
    "from rdkit import RDLogger                                                                                                                                                               \n",
    "\n",
    "RDLogger.DisableLog('rdApp.*')\n",
    "PandasTools.RenderImagesInAllDataFrames(images=True)\n",
    "\n",
    "# Load visualization package and display settings\n",
    "import matplotlib.pyplot as plt\n",
    "IPythonConsole.molSize = (1000, 300)   # Change image size\n",
    "IPythonConsole.ipython_useSVG = False  # Show as PNG\n",
    "\n",
    "# Define reaction with SMILES\n",
    "smi = 'COC(=O)Cc1cn(C)c2cc(O)ccc12.Cc1nn(-c2ccc(C(F)(F)F)cc2)cc1C(C)CO>CCCCP(CCCC)CCCC.Cc1ccccc1>COC(=O)Cc1cn(C)c2cc(OCC(C)c3cn(-c4ccc(C(F)(F)F)cc4)nc3C)ccc12'\n",
    "\n",
    "# Load reaction to rdkit\n",
    "reaction = AllChem.ReactionFromSmarts(smi, useSmiles=True)\n",
    "\n",
    "# Save reaction as PNG\n",
    "d2d = Chem.Draw.MolDraw2DCairo(2000,500)\n",
    "d2d.DrawReaction(reaction)\n",
    "png = d2d.GetDrawingText()\n",
    "open('../figs/reaction.pdf','wb+').write(png)"
   ]
  },
  {
   "cell_type": "code",
   "execution_count": 4,
   "id": "5fe6e81b-2122-4cf4-9c32-e0f1d98eedea",
   "metadata": {},
   "outputs": [
    {
     "data": {
      "text/plain": [
       "61790"
      ]
     },
     "execution_count": 4,
     "metadata": {},
     "output_type": "execute_result"
    }
   ],
   "source": [
    "   # Save reaction as PNG\n",
    "d2d = Chem.Draw.MolDraw2DCairo(2000,500)\n",
    "d2d.DrawMolecule(reaction)\n",
    "png = d2d.GetDrawingText()\n",
    "open('../figs/reagent1.png','wb+').write(png)  "
   ]
  }
 ],
 "metadata": {
  "kernelspec": {
   "display_name": "Python 3 (ipykernel)",
   "language": "python",
   "name": "python3"
  },
  "language_info": {
   "codemirror_mode": {
    "name": "ipython",
    "version": 3
   },
   "file_extension": ".py",
   "mimetype": "text/x-python",
   "name": "python",
   "nbconvert_exporter": "python",
   "pygments_lexer": "ipython3",
   "version": "3.8.12"
  }
 },
 "nbformat": 4,
 "nbformat_minor": 5
}
