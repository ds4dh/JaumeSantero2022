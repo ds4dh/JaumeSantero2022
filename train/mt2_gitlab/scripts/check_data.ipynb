{
 "cells": [
  {
   "cell_type": "code",
   "execution_count": 2,
   "id": "e26f4f89-d261-4fdf-af82-f08283f771b0",
   "metadata": {},
   "outputs": [],
   "source": [
    "# Load packages\n",
    "import numpy as np\n",
    "import pandas as pd\n",
    "\n",
    "# Load tgt and src files\n",
    "path_src_train = '../data/MIT_product_pred_x10/src-train.txt'\n",
    "path_tgt_train = '../data/MIT_product_pred_x10/tgt-train.txt'\n",
    "path_src_val = '../data/MIT_product_pred_x10/src-val.txt'\n",
    "path_tgt_val = '../data/MIT_product_pred_x10/tgt-val.txt'\n",
    "path_src_test = '../data/MIT_product_pred_x10/src-test.txt'\n",
    "path_tgt_test = '../data/MIT_product_pred_x10/tgt-test.txt'\n",
    "\n",
    "src_train = pd.read_csv(path_src_train, sep='\\t', header=None).values.flatten().tolist()\n",
    "tgt_train = pd.read_csv(path_tgt_train, sep='\\t', header=None).values.flatten().tolist()\n",
    "src_val   = pd.read_csv(path_src_val, sep='\\t', header=None).values.flatten().tolist()\n",
    "tgt_val   = pd.read_csv(path_tgt_val, sep='\\t', header=None).values.flatten().tolist()\n",
    "src_test  = pd.read_csv(path_src_test, sep='\\t', header=None).values.flatten().tolist()\n",
    "tgt_test  = pd.read_csv(path_tgt_test, sep='\\t', header=None).values.flatten().tolist()"
   ]
  },
  {
   "cell_type": "code",
   "execution_count": 16,
   "id": "6ada2936-58a7-4e96-ba10-385b9a5e6d14",
   "metadata": {},
   "outputs": [],
   "source": [
    "src_train_array = np.array(src_train, dtype=str)"
   ]
  },
  {
   "cell_type": "code",
   "execution_count": 17,
   "id": "3575561f-3cd3-4775-9956-1f3e8b2e53b4",
   "metadata": {},
   "outputs": [],
   "source": [
    "src_train_unique, src_train_counts = np.unique(src_train_array, return_counts=True)"
   ]
  },
  {
   "cell_type": "code",
   "execution_count": 25,
   "id": "8315c947-c8e2-4633-b521-2d09ec46de9d",
   "metadata": {},
   "outputs": [
    {
     "data": {
      "text/plain": [
       "array(['B ( O ) ( O ) c 1 c s c c 1 C = O . C 1 C C O C 1 . Cl',\n",
       "       'B ( O ) ( c 1 c c c c ( F ) c 1 F ) O . O O',\n",
       "       'B ( c 1 c c 2 c ( c c 1 ) c c n 2 C ) ( O ) O . O O', ...,\n",
       "       's 1 n c 2 c c c ( [N+] ( [O-] ) = O ) c c 2 n 1 . C 1 C C O C 1 . O',\n",
       "       's 1 n c c ( O C C N C ( O C ( C ) ( C ) C ) = O ) n 1 . Cl . C 1 C O C C O 1',\n",
       "       's 1 n n c ( c 1 ) C ( C ( = O ) O ) = N O C . Cl . C O . O . [H] [H]'],\n",
       "      dtype='<U579')"
      ]
     },
     "execution_count": 25,
     "metadata": {},
     "output_type": "execute_result"
    }
   ],
   "source": [
    "src_train_unique[np.argwhere(src_train_counts>1).flatten()]"
   ]
  },
  {
   "cell_type": "code",
   "execution_count": 26,
   "id": "863b05c9-5844-45ec-ab2b-735bb58eee3e",
   "metadata": {},
   "outputs": [],
   "source": [
    "src_train_original =  pd.read_csv('../data/MIT_mixed_augm/src-train.txt', sep='\\t', header=None).values.flatten().tolist()"
   ]
  }
 ],
 "metadata": {
  "kernelspec": {
   "display_name": "Python 3 (ipykernel)",
   "language": "python",
   "name": "python3"
  },
  "language_info": {
   "codemirror_mode": {
    "name": "ipython",
    "version": 3
   },
   "file_extension": ".py",
   "mimetype": "text/x-python",
   "name": "python",
   "nbconvert_exporter": "python",
   "pygments_lexer": "ipython3",
   "version": "3.8.12"
  }
 },
 "nbformat": 4,
 "nbformat_minor": 5
}
