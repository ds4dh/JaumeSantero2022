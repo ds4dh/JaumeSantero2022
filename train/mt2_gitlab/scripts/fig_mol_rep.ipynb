{
 "cells": [
  {
   "cell_type": "code",
   "execution_count": 4,
   "id": "72042f6c-ae09-4f96-96d1-804455fa6f1e",
   "metadata": {},
   "outputs": [],
   "source": [
    "# Load data science packages\n",
    "import numpy as np\n",
    "import pandas as pd\n",
    "import selfies as sf\n",
    "\n",
    "# Load chemistry packages\n",
    "import rdkit.Chem as Chem\n",
    "import rdkit.Chem.AllChem as AllChem\n",
    "from rdkit.Chem.Draw import IPythonConsole \n",
    "from rdkit.Chem.Draw.MolDrawing import MolDrawing, DrawingOptions\n",
    "from rdkit.Chem import PandasTools\n",
    "from rdkit import RDLogger                                                                                                                                                               \n",
    "\n",
    "RDLogger.DisableLog('rdApp.*')\n",
    "PandasTools.RenderImagesInAllDataFrames(images=True)\n",
    "\n",
    "# Load visualization package and display settings\n",
    "import matplotlib.pyplot as plt\n",
    "IPythonConsole.molSize = (1000, 300)   # Change image size\n",
    "IPythonConsole.ipython_useSVG = False  # Show as PNG\n",
    "\n",
    "smi = 'C(C1C(C(C(C(O1)O)O)O)O)O' \n",
    "sf = sf.encoder(smi)\n",
    "\n",
    "# Load reaction to rdkit\n",
    "reaction = Chem.MolFromSmiles(smi)"
   ]
  },
  {
   "cell_type": "code",
   "execution_count": 6,
   "id": "1c405a65-15b2-4f93-b623-d83221061416",
   "metadata": {},
   "outputs": [
    {
     "data": {
      "text/plain": [
       "'C(C1C(C(C(C(O1)O)O)O)O)O'"
      ]
     },
     "execution_count": 6,
     "metadata": {},
     "output_type": "execute_result"
    }
   ],
   "source": [
    "smi"
   ]
  },
  {
   "cell_type": "code",
   "execution_count": 7,
   "id": "a7f1d8c5-49ab-478d-9a95-7f75553b8d32",
   "metadata": {},
   "outputs": [
    {
     "data": {
      "text/plain": [
       "'[C][Branch2][Ring1][Branch1][C][C][Branch1][S][C][Branch1][N][C][Branch1][Branch2][C][Branch1][Ring2][O][Ring1][=Branch1][O][O][O][O][O]'"
      ]
     },
     "execution_count": 7,
     "metadata": {},
     "output_type": "execute_result"
    }
   ],
   "source": [
    "sf"
   ]
  },
  {
   "cell_type": "code",
   "execution_count": 5,
   "id": "b0a4ea8b-a02a-4151-93fb-bbc64f4caae7",
   "metadata": {},
   "outputs": [
    {
     "data": {
      "image/png": "[encoded data removed]",
      "text/plain": [
       "<rdkit.Chem.rdchem.Mol at 0x7fc3fb376fa0>"
      ]
     },
     "execution_count": 5,
     "metadata": {},
     "output_type": "execute_result"
    }
   ],
   "source": [
    "reaction"
   ]
  },
  {
   "cell_type": "code",
   "execution_count": 9,
   "id": "d6a90815-884b-4f6b-9e0d-6f68b5329d80",
   "metadata": {},
   "outputs": [
    {
     "data": {
      "text/plain": [
       "21457"
      ]
     },
     "execution_count": 9,
     "metadata": {},
     "output_type": "execute_result"
    }
   ],
   "source": [
    "# Save reaction as PNG\n",
    "d2d = Chem.Draw.MolDraw2DCairo(600,600)\n",
    "d2d.DrawMolecule(reaction)\n",
    "png = d2d.GetDrawingText()\n",
    "open('../figs/mol_glucose.png','wb+').write(png)"
   ]
  },
  {
   "cell_type": "code",
   "execution_count": null,
   "id": "e8fd5975-88aa-4def-b4dd-3f5d520a370f",
   "metadata": {},
   "outputs": [],
   "source": []
  }
 ],
 "metadata": {
  "kernelspec": {
   "display_name": "Python 3 (ipykernel)",
   "language": "python",
   "name": "python3"
  },
  "language_info": {
   "codemirror_mode": {
    "name": "ipython",
    "version": 3
   },
   "file_extension": ".py",
   "mimetype": "text/x-python",
   "name": "python",
   "nbconvert_exporter": "python",
   "pygments_lexer": "ipython3",
   "version": "3.8.12"
  }
 },
 "nbformat": 4,
 "nbformat_minor": 5
}
