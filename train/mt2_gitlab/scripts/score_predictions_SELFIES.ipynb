{
 "cells": [
  {
   "cell_type": "code",
   "execution_count": 1,
   "id": "96b04c27-eead-45bd-882f-c31ee4bcee6b",
   "metadata": {},
   "outputs": [],
   "source": [
    "# Packages\n",
    "from rdkit import Chem\n",
    "import selfies as sf\n",
    "import pandas as pd\n",
    "\n",
    "# Paths\n",
    "path_tgt  = '../data/MIT_reactants_pred_x10_SELFIES/tgt-test.txt'\n",
    "path_pred = '../results/predictions_MIT_reactants_pred_x10_SELFIES_model_average_20_on_MIT_reactants_pred_x10_SELFIES_test.txt'\n",
    "\n",
    "def canonicalize_smiles(smiles):\n",
    "    mol = Chem.MolFromSmiles(smiles)\n",
    "    if mol is not None:\n",
    "        return Chem.MolToSmiles(mol, isomericSmiles=True)\n",
    "    else:\n",
    "        return ''\n",
    "to_smi = lambda x:canonicalize_smiles(sf.decoder(x))\n",
    "\n",
    "with open(path_tgt, 'r') as f:\n",
    "    targets = [to_smi(''.join(line.strip().split(' '))) for line in f.readlines()]\n",
    "\n",
    "test_df = pd.DataFrame(targets)\n",
    "test_df.columns = ['target']\n",
    "total = len(test_df)\n",
    "\n",
    "beam_size = 1\n",
    "predictions = [[] for i in range(beam_size)]\n",
    "\n",
    "with open(path_pred, 'r') as f:\n",
    "    for i, line in enumerate(f.readlines()):\n",
    "            predictions[i % beam_size].append(to_smi(''.join(line.strip().split(' '))))"
   ]
  }
 ],
 "metadata": {
  "kernelspec": {
   "display_name": "Python 3 (ipykernel)",
   "language": "python",
   "name": "python3"
  },
  "language_info": {
   "codemirror_mode": {
    "name": "ipython",
    "version": 3
   },
   "file_extension": ".py",
   "mimetype": "text/x-python",
   "name": "python",
   "nbconvert_exporter": "python",
   "pygments_lexer": "ipython3",
   "version": "3.8.12"
  }
 },
 "nbformat": 4,
 "nbformat_minor": 5
}
