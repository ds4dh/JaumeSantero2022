{
 "cells": [
  {
   "cell_type": "code",
   "execution_count": null,
   "id": "54e6def9-8a73-4d4f-aa04-b17535a88503",
   "metadata": {},
   "outputs": [],
   "source": [
    "# Load packages\n",
    "import random\n",
    "import numpy as np\n",
    "import pandas as pd\n",
    "\n",
    "# Load tgt and src files\n",
    "filetype = 'train'\n",
    "path_src = '../data/MIT_reactants_pred_x10/src-%s.txt'%(filetype)\n",
    "path_tgt = '../data/MIT_reactants_pred_x10/tgt-%s.txt'%(filetype)\n",
    "save_path = '../data/MIT_1reactant_pred_x10/'\n",
    "src = pd.read_csv(path_src, sep='\\t', header=None).values.flatten().tolist()\n",
    "tgt = pd.read_csv(path_tgt, sep='\\t', header=None).values.flatten().tolist()\n",
    "\n",
    "# Generate reactant1.reagent1.reagent2.product as src & reactant2 as tgt\n",
    "reactant_tgt = []\n",
    "reactant_reagent_product_src = []\n",
    "num_reactants = []\n",
    "for n in range(len(tgt)):\n",
    "    \n",
    "    # Split reactants\n",
    "    reactants = tgt[n].split(' . ')\n",
    "    \n",
    "    # Add only reactions with more than one reactant in train\n",
    "    if len(reactants) > 1:\n",
    "        for reactant in reactants:\n",
    "\n",
    "            # Select the other reactant (or reactants in case of more than 2)\n",
    "            remaining_reactants = ' . '.join([m for m in reactants if m != reactant])\n",
    "\n",
    "            # Add reactants.product to list\n",
    "            reactant_reagent_product_src.append(remaining_reactants + ' . ' + src[n])\n",
    "\n",
    "            # Add reagents to list\n",
    "            reactant_tgt.append(reactant)\n",
    "            \n",
    "# Shuffle src & target lists\n",
    "c = list(zip(reactant_reagent_product_src, reactant_tgt))\n",
    "random.shuffle(c)\n",
    "reactant_reagent_product_src, reactant_tgt = zip(*c)\n",
    "    \n",
    "# Save src and tgt files\n",
    "with open(save_path+\"src-%s.txt\"%(filetype), \"w\") as outfile:\n",
    "    outfile.write(\"\\n\".join(reactant_reagent_product_src))\n",
    "with open(save_path+\"tgt-%s.txt\"%(filetype), \"w\") as outfile:\n",
    "    outfile.write(\"\\n\".join(reactant_tgt))\n",
    "\n",
    "# EOP\n",
    "print('Complete')"
   ]
  },
  {
   "cell_type": "code",
   "execution_count": null,
   "id": "0327643c-45d2-4395-8bd8-96d09f4b7161",
   "metadata": {},
   "outputs": [],
   "source": []
  }
 ],
 "metadata": {
  "kernelspec": {
   "display_name": "Python 3 (ipykernel)",
   "language": "python",
   "name": "python3"
  },
  "language_info": {
   "codemirror_mode": {
    "name": "ipython",
    "version": 3
   },
   "file_extension": ".py",
   "mimetype": "text/x-python",
   "name": "python",
   "nbconvert_exporter": "python",
   "pygments_lexer": "ipython3",
   "version": "3.8.12"
  }
 },
 "nbformat": 4,
 "nbformat_minor": 5
}
