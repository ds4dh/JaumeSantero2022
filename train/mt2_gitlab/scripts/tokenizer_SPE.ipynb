{
 "cells": [
  {
   "cell_type": "code",
   "execution_count": null,
   "id": "dc6625d6-d87e-4410-b266-96cbd62637c7",
   "metadata": {},
   "outputs": [
    {
     "name": "stdout",
     "output_type": "stream",
     "text": [
      "Counting SMILES...\n",
      "18140780 unique Canonical SMILES\n",
      "Augmenting SMILES...(1 times)\n"
     ]
    },
    {
     "data": {
      "text/html": [
       "\n",
       "<style>\n",
       "    /* Turns off some styling */\n",
       "    progress {\n",
       "        /* gets rid of default border in Firefox and Opera. */\n",
       "        border: none;\n",
       "        /* Needs to be in here for Safari polyfill so background images work as expected. */\n",
       "        background-size: auto;\n",
       "    }\n",
       "    .progress-bar-interrupted, .progress-bar-interrupted::-webkit-progress-bar {\n",
       "        background: #F44336;\n",
       "    }\n",
       "</style>\n"
      ],
      "text/plain": [
       "<IPython.core.display.HTML object>"
      ]
     },
     "metadata": {},
     "output_type": "display_data"
    },
    {
     "data": {
      "text/html": [],
      "text/plain": [
       "<IPython.core.display.HTML object>"
      ]
     },
     "metadata": {},
     "output_type": "display_data"
    },
    {
     "name": "stdout",
     "output_type": "stream",
     "text": [
      "36188287 unique SMILES (Canonical + Augmented)\n",
      "Gettting Pair Statistics\n"
     ]
    },
    {
     "data": {
      "text/html": [
       "\n",
       "<style>\n",
       "    /* Turns off some styling */\n",
       "    progress {\n",
       "        /* gets rid of default border in Firefox and Opera. */\n",
       "        border: none;\n",
       "        /* Needs to be in here for Safari polyfill so background images work as expected. */\n",
       "        background-size: auto;\n",
       "    }\n",
       "    .progress-bar-interrupted, .progress-bar-interrupted::-webkit-progress-bar {\n",
       "        background: #F44336;\n",
       "    }\n",
       "</style>\n"
      ],
      "text/plain": [
       "<IPython.core.display.HTML object>"
      ]
     },
     "metadata": {},
     "output_type": "display_data"
    },
    {
     "data": {
      "text/html": [
       "\n",
       "    <div>\n",
       "      <progress value='36188287' class='' max='36188287' style='width:300px; height:20px; vertical-align: middle;'></progress>\n",
       "      100.00% [36188287/36188287 09:34<00:00]\n",
       "    </div>\n",
       "    "
      ],
      "text/plain": [
       "<IPython.core.display.HTML object>"
      ]
     },
     "metadata": {},
     "output_type": "display_data"
    },
    {
     "name": "stderr",
     "output_type": "stream",
     "text": [
      "Number of unique characters & Reducing number of merge operations by: 41\n",
      "Unique characters: {'N', '[S@@H]', '[O]', '[nH]', '(', '[SH]', 'C', 'S', '6', ')', 'O', 'Br', '2', '[C]', 'Cl', '\\\\', '-', '8', 'o', '5', '[N]', '3', '[S@H]', 's', '[C@@]', '=', '[C@@H]', '[CH]', '[S@@]', '[CH2]', 'c', 'n', '/', '[C@H]', '[S@]', '#', 'F', '4', '1', '[C@]', '7'}\n",
      "pair 0: C C -> CC (frequency 88066471)\n",
      "pair 1: O ) -> O) (frequency 69373427)\n"
     ]
    }
   ],
   "source": [
    "# Load packages\n",
    "import codecs\n",
    "import numpy as np\n",
    "import pandas as pd\n",
    "from rdkit import Chem\n",
    "from SmilesPE.learner import *\n",
    "from SmilesPE.tokenizer import *\n",
    "\n",
    "# Load ZINK file\n",
    "FILE = '../data/ZINK/allsmiles_filtered.txt'\n",
    "smi_ZINK = pd.read_csv(FILE).smi.tolist()\n",
    "\n",
    "# Train new tokenizer on ZINK data set\n",
    "output = codecs.open('../data/ZINK/SPE_ZINK.txt', 'w')\n",
    "learn_SPE(smi_ZINK, output, 30000, min_frequency=2000, augmentation=1, verbose=True, total_symbols=True)"
   ]
  }
 ],
 "metadata": {
  "kernelspec": {
   "display_name": "Python 3 (ipykernel)",
   "language": "python",
   "name": "python3"
  },
  "language_info": {
   "codemirror_mode": {
    "name": "ipython",
    "version": 3
   },
   "file_extension": ".py",
   "mimetype": "text/x-python",
   "name": "python",
   "nbconvert_exporter": "python",
   "pygments_lexer": "ipython3",
   "version": "3.8.12"
  }
 },
 "nbformat": 4,
 "nbformat_minor": 5
}
