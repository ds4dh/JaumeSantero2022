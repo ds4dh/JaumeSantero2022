{
 "cells": [
  {
   "cell_type": "code",
   "execution_count": 21,
   "id": "9bb98c53-2d7c-4fc1-b244-e54c88d0ba24",
   "metadata": {},
   "outputs": [],
   "source": [
    "# Load packages\n",
    "import numpy as np\n",
    "import pandas as pd\n",
    "\n",
    "# Load tgt and src files\n",
    "filetype = 'val'\n",
    "path_src = '../data/MIT_separated/src-%s.txt'%(filetype)\n",
    "path_tgt = '../data/MIT_separated/tgt-%s.txt'%(filetype)\n",
    "save_path = '../data/MIT_reactants_pred_noaugm/'\n",
    "src = pd.read_csv(path_src, sep='\\t', header=None).values.flatten().tolist()\n",
    "tgt = pd.read_csv(path_tgt, sep='\\t', header=None).values.flatten().tolist()"
   ]
  },
  {
   "cell_type": "code",
   "execution_count": 22,
   "id": "36998fe4-cf64-43b1-91f9-5bc672dd2e6e",
   "metadata": {},
   "outputs": [],
   "source": [
    "reactants_list = []\n",
    "reagents_products_list = []\n",
    "\n",
    "for i in range(len(src)):\n",
    "    \n",
    "    if src[i][-1] == '>':\n",
    "        reactants = src[i][:-2] # It should be -3 but reactants_list already takes into account the last space.\n",
    "        reagents = 'NA'\n",
    "    else:\n",
    "        reactants, reagents = src[i].split('>')\n",
    "    \n",
    "    product = tgt[i]\n",
    "    reactants_list.append(reactants[:-1])\n",
    "    if reagents != 'NA':\n",
    "        reagents_products_list.append(reagents[1:] + ' . ' + product)\n",
    "    else:\n",
    "        reagents_products_list.append(product)"
   ]
  },
  {
   "cell_type": "code",
   "execution_count": 23,
   "id": "fa06f4b9-b930-47d7-b716-7c5ae9184b33",
   "metadata": {},
   "outputs": [],
   "source": [
    "# Save src and tgt files\n",
    "with open(save_path+\"src-%s.txt\"%(filetype), \"w\") as outfile:\n",
    "    outfile.write(\"\\n\".join(reagents_products_list))\n",
    "with open(save_path+\"tgt-%s.txt\"%(filetype), \"w\") as outfile:\n",
    "    outfile.write(\"\\n\".join(reactants_list))"
   ]
  }
 ],
 "metadata": {
  "kernelspec": {
   "display_name": "Python 3 (ipykernel)",
   "language": "python",
   "name": "python3"
  },
  "language_info": {
   "codemirror_mode": {
    "name": "ipython",
    "version": 3
   },
   "file_extension": ".py",
   "mimetype": "text/x-python",
   "name": "python",
   "nbconvert_exporter": "python",
   "pygments_lexer": "ipython3",
   "version": "3.8.12"
  }
 },
 "nbformat": 4,
 "nbformat_minor": 5
}
