{
 "cells": [
  {
   "cell_type": "code",
   "execution_count": null,
   "id": "5bf656ae-4d91-46e9-a227-1ece05398f57",
   "metadata": {},
   "outputs": [],
   "source": [
    "# Load data science packages\n",
    "import numpy as np\n",
    "import pandas as pd\n",
    "\n",
    "# Load argument packages\n",
    "import argparse\n",
    "import re\n",
    "\n",
    "# Load chemistry packages\n",
    "import rdkit.Chem as Chem\n",
    "import rdkit.Chem.AllChem as AllChem\n",
    "from rdkit.Chem.Draw import IPythonConsole \n",
    "from rdkit.Chem.Draw.MolDrawing import MolDrawing, DrawingOptions\n",
    "from rdkit.Chem import PandasTools\n",
    "from rdkit import RDLogger                                                                                                                                                               \n",
    "\n",
    "RDLogger.DisableLog('rdApp.*')\n",
    "PandasTools.RenderImagesInAllDataFrames(images=True)\n",
    "\n",
    "# Load visualization package and display settings\n",
    "import matplotlib.pyplot as plt\n",
    "IPythonConsole.molSize = (1000, 300)   # Change image size\n",
    "IPythonConsole.ipython_useSVG = False  # Show as PNG\n",
    "\n",
    "class NotCanonicalizableSmilesException(ValueError):\n",
    "    pass\n",
    "\n",
    "def canonicalize_smi(smi: str, remove_atom_mapping=False, individual=False) -> str:\n",
    "    \"\"\" Convert a SMILES string into its canonicalized form\n",
    "    Args:\n",
    "        smi: Reaction SMILES\n",
    "        remove_atom_mapping: If True, remove atom mapping information from the canonicalized SMILES output\n",
    "    Returns:\n",
    "        SMILES reaction, canonicalized, as a string\n",
    "    \"\"\"\n",
    "    mol = Chem.MolFromSmiles(smi)\n",
    "    if not mol:\n",
    "        if individual == False:\n",
    "            return smi\n",
    "        elif individual == True:\n",
    "            return\n",
    "        else:\n",
    "            print(\"Error: individual must be True or False\")\n",
    "    if remove_atom_mapping:\n",
    "        for atom in mol.GetAtoms():\n",
    "            if atom.HasProp(\"molAtomMapNumber\"):\n",
    "                atom.ClearProp(\"molAtomMapNumber\")\n",
    "    return Chem.MolToSmiles(mol)\n",
    "\n",
    "def canonicalize_reagents(reagents_list):\n",
    "    canon_reagents_list = []\n",
    "    for reagents in reagents_list:\n",
    "        canon_reagents_list.append('.'.join([canonicalize_smi(reagent) for reagent in reagents.split('.')]))\n",
    "    \n",
    "    return canon_reagents_list\n",
    "        \n",
    "# Paths\n",
    "PATH      = '/home/fjaume/MolecularTransformer/'\n",
    "PATH_tgt  = PATH + 'data/MIT_reagent_pred/tgt-test.txt'\n",
    "PATH_pred = PATH + 'experiments/results/predictions_MIT_reagent_pred_model_average_20_on_MIT_reagent_pred_test.txt'\n",
    "PATH_train  = PATH + 'data/MIT_reagent_pred/tgt-train.txt'\n",
    "\n",
    "# Load data\n",
    "tgt   = canonicalize_reagents(pd.read_csv(PATH_tgt, header=None).replace('\\s+', '', regex=True).values.flatten().tolist())\n",
    "pred  = canonicalize_reagents(pd.read_csv(PATH_pred, header=None).replace('\\s+', '', regex=True).values.flatten().tolist())\n",
    "train = canonicalize_reagents(pd.read_csv(PATH_train, header=None).replace('\\s+', '', regex=True).values.flatten().tolist())\n",
    "\n",
    "# Calculate accuracy\n",
    "accuracy = []\n",
    "for n in range(len(tgt)):\n",
    "    \n",
    "    reagents_tgt  = set(tgt[n].split('.'))\n",
    "    reagents_pred = set(pred[n].split('.'))\n",
    "    \n",
    "    accuracy.append(len([reagent for reagent in reagents_pred if reagent in reagents_tgt]) / len(set(tgt[n].split('.'))))\n",
    "\n",
    "accuracy = 100*np.array(accuracy)\n",
    "\n",
    "correc_preds = np.array(pred)[np.argwhere(accuracy == 100)].flatten()\n",
    "correc_tgt = np.array(tgt)[np.argwhere(accuracy == 100)].flatten()\n",
    "\n",
    "reagents_in_tgt   = sorted(set('.'.join(tgt).split('.')))\n",
    "reagents_in_pred  = [canonicalize_smi(reagent, individual=True) for reagent in sorted(set('.'.join(pred).split('.')))]\n",
    "reagents_in_train = sorted(set('.'.join(train).split('.')))\n",
    "reagents_not_predicted = [reagent for reagent in reagents_in_tgt if reagent not in reagents_in_pred]\n",
    "reagents_not_in_tgt = [reagent for reagent in reagents_in_pred if reagent not in reagents_in_tgt]\n",
    "reagents_predicted = [reagent for reagent in reagents_in_tgt if reagent in reagents_in_pred]\n",
    "\n",
    "train_in_pred = [] \n",
    "appearances=[]\n",
    "predicted=[]\n",
    "not_pred=[]\n",
    "totpred=[]\n",
    "a = [r_tgt.split('.') for r_tgt in tgt]\n",
    "b = [r_pred.split('.') for r_pred in pred]\n",
    "c = [r_train.split('.') for r_train in train]\n",
    "\n",
    "for reagent in reagents_predicted:\n",
    "    appearances.append(len([n for n in a if reagent in n]))\n",
    "    predicted.append(len([n for i,n in enumerate(a) if reagent in n and reagent in b[i]]))\n",
    "    not_pred.append(len([n for i,n in enumerate(a) if reagent in n and reagent not in b[i]]))\n",
    "    totpred.append(len([n for n in b if reagent in n]))\n",
    "    train_in_pred.append(len([n for n in c if reagent in n]))\n",
    "appearances = np.array(appearances)\n",
    "predicted = np.array(predicted)\n",
    "totpred = np.array(totpred)\n",
    "not_pred = np.array(not_pred)\n",
    "rdmol = [Chem.MolFromSmiles(reagent) for reagent in reagents_predicted]\n",
    "\n",
    "Tp_element = predicted\n",
    "Fp_element = (totpred - predicted) / totpred\n",
    "Fn_element = not_pred\n",
    "\n",
    "P_element  = Tp_element / (Tp_element + Fp_element) \n",
    "R_element  = Tp_element / (Tp_element + Fn_element)\n",
    "F1_element = 2 * P_element * R_element / (P_element + R_element)\n",
    "\n",
    "d = {'reagent':reagents_predicted, 'total_tgt':appearances,\n",
    "     'total_pred':totpred, 'total_train':train_in_pred,\n",
    "     'correct_pred':predicted, 'precision':P_element,\n",
    "     'recall':R_element, 'F1':F1_element, 'rdmol':rdmol}\n",
    "df = pd.DataFrame(data=d)\n",
    "\n",
    "reagents_notrain = df[df.total_train==0].sort_values(['correct_pred'], ascending=False).head(2)\n",
    "reagent1 = Chem.MolFromSmiles(reagents_notrain.reagent.values.tolist()[0])\n",
    "reagent2 = Chem.MolFromSmiles(reagents_notrain.reagent.values.tolist()[1])\n",
    "\n",
    "reagents_1_smi  = reagents_notrain.reagent.values.tolist()[0]\n",
    "reagents_1_name = '2-Chloro-5-(2-nitrovinyl)thiophene'\n",
    "\n",
    "reaction_1_smi = 'CC(C)(C)OC(=O)N1CCc2c(-c3ccc(Cl)s3)cn(Cc3ccccc3)c2CC1>NCc1ccccc1.O=[N+]([O-])C=Cc1ccc(Cl)s1>Clc1ccc(-c2cn(Cc3ccccc3)c3c2CCNCC3)s1'\n",
    "reaction_2_smi = 'COC(=O)COc1ccc(SCc2ccc(OCc3ccc(F)cc3F)cc2)cc1C>OCc1ccc(OCc2ccc(F)cc2F)cc1>Cc1cc(SCc2ccc(OCc3ccc(F)cc3F)cc2)ccc1OCC(=O)O'\n",
    "\n",
    "reagents_2_smi  = reagents_notrain.reagent.values.tolist()[1]"
   ]
  },
  {
   "cell_type": "code",
   "execution_count": null,
   "id": "131d2fc1-cd46-4ffc-8807-43d41c9aa0c5",
   "metadata": {},
   "outputs": [],
   "source": [
    "\"\"\"# Save reaction as PNG\n",
    "d2d = Chem.Draw.MolDraw2DCairo(2000,500)\n",
    "d2d.DrawMolecule(reagent1)\n",
    "png = d2d.GetDrawingText()\n",
    "open('../figs/reagent1.png','wb+').write(png)\"\"\""
   ]
  },
  {
   "cell_type": "code",
   "execution_count": 8,
   "id": "d261ab4a-a4df-49d1-92ba-69602c80cefb",
   "metadata": {},
   "outputs": [
    {
     "data": {
      "text/plain": [
       "'O = [N+] ( [O-] ) C = C c 1 c c c ( Cl ) s 1'"
      ]
     },
     "execution_count": 8,
     "metadata": {},
     "output_type": "execute_result"
    }
   ],
   "source": [
    "def smi_tokenizer(smi):\n",
    "    \"\"\"\n",
    "    Tokenize a SMILES molecule or reaction\n",
    "    \"\"\"\n",
    "    import re\n",
    "    pattern =  \"(\\[[^\\]]+]|Br?|Cl?|N|O|S|P|F|I|b|c|n|o|s|p|\\(|\\)|\\.|=|#|-|\\+|\\\\\\\\|\\/|:|~|@|\\?|>|\\*|\\$|\\%[0-9]{2}|[0-9])\"\n",
    "    regex = re.compile(pattern)\n",
    "    tokens = [token for token in regex.findall(smi)]\n",
    "    assert smi == ''.join(tokens)\n",
    "    return ' '.join(tokens)\n",
    "\n",
    "smi_tokenizer(reagents_1_smi)"
   ]
  },
  {
   "cell_type": "code",
   "execution_count": 17,
   "id": "f7026b18-a487-42c7-b5c4-cb65d57371cf",
   "metadata": {},
   "outputs": [],
   "source": [
    "reaction_1_smi = 'CC(C)(C)OC(=O)N1CCc2c(-c3ccc(Cl)s3)cn(Cc3ccccc3)c2CC1>NCc1ccccc1.O=[N+]([O-])C=Cc1ccc(Cl)s1>Clc1ccc(-c2cn(Cc3ccccc3)c3c2CCNCC3)s1'\n",
    "reaction_2_smi = 'COC(=O)COc1ccc(SCc2ccc(OCc3ccc(F)cc3F)cc2)cc1C>OCc1ccc(OCc2ccc(F)cc2F)cc1>Cc1cc(SCc2ccc(OCc3ccc(F)cc3F)cc2)ccc1OCC(=O)O'\n"
   ]
  },
  {
   "cell_type": "code",
   "execution_count": 18,
   "id": "52891f55-969a-42fc-a592-9606d0bc6a9b",
   "metadata": {},
   "outputs": [],
   "source": [
    "reaction_1 = AllChem.ReactionFromSmarts(reaction_1_smi, useSmiles=True)\n",
    "reaction_2 = AllChem.ReactionFromSmarts(reaction_2_smi, useSmiles=True)"
   ]
  },
  {
   "cell_type": "code",
   "execution_count": 22,
   "id": "ffc5ed89-e657-43e4-a831-7dfaeffec5fd",
   "metadata": {},
   "outputs": [
    {
     "data": {
      "text/plain": [
       "78427"
      ]
     },
     "execution_count": 22,
     "metadata": {},
     "output_type": "execute_result"
    }
   ],
   "source": [
    "# Save reaction as PNG\n",
    "d2d = Chem.Draw.MolDraw2DCairo(2000,500)\n",
    "d2d.DrawReaction(reaction_1)\n",
    "png = d2d.GetDrawingText()\n",
    "open('../figs/reaction_1.png','wb+').write(png)"
   ]
  },
  {
   "cell_type": "code",
   "execution_count": 23,
   "id": "74959a51-13bb-458b-9015-61b404ebb798",
   "metadata": {},
   "outputs": [
    {
     "data": {
      "text/plain": [
       "53538"
      ]
     },
     "execution_count": 23,
     "metadata": {},
     "output_type": "execute_result"
    }
   ],
   "source": [
    "# Save reaction as PNG\n",
    "d2d = Chem.Draw.MolDraw2DCairo(2000,500)\n",
    "d2d.DrawReaction(reaction_2)\n",
    "png = d2d.GetDrawingText()\n",
    "open('../figs/reaction_2.png','wb+').write(png)"
   ]
  },
  {
   "cell_type": "code",
   "execution_count": 26,
   "id": "6c8571ca-01c5-412a-a218-bacf46c6c89f",
   "metadata": {},
   "outputs": [
    {
     "data": {
      "text/plain": [
       "'O = [N+] ( [O-] ) C = C c 1 c c c ( Cl ) s 1'"
      ]
     },
     "execution_count": 26,
     "metadata": {},
     "output_type": "execute_result"
    }
   ],
   "source": [
    "smi_tokenizer(reagents_1_smi)"
   ]
  },
  {
   "cell_type": "code",
   "execution_count": 30,
   "id": "a89ddb5a-776c-4b55-95d0-4cef08bfb882",
   "metadata": {},
   "outputs": [
    {
     "data": {
      "text/html": [
       "<div>\n",
       "<style scoped>\n",
       "    .dataframe tbody tr th:only-of-type {\n",
       "        vertical-align: middle;\n",
       "    }\n",
       "\n",
       "    .dataframe tbody tr th {\n",
       "        vertical-align: top;\n",
       "    }\n",
       "\n",
       "    .dataframe thead th {\n",
       "        text-align: right;\n",
       "    }\n",
       "</style>\n",
       "<table border=\"1\" class=\"dataframe\">\n",
       "  <thead>\n",
       "    <tr style=\"text-align: right;\">\n",
       "      <th></th>\n",
       "      <th>reagent</th>\n",
       "      <th>total_tgt</th>\n",
       "      <th>total_pred</th>\n",
       "      <th>total_train</th>\n",
       "      <th>correct_pred</th>\n",
       "      <th>precision</th>\n",
       "      <th>recall</th>\n",
       "      <th>F1</th>\n",
       "      <th>rdmol</th>\n",
       "    </tr>\n",
       "  </thead>\n",
       "  <tbody>\n",
       "    <tr>\n",
       "      <th>486</th>\n",
       "      <td>NCc1ccccc1</td>\n",
       "      <td>3</td>\n",
       "      <td>6</td>\n",
       "      <td>63</td>\n",
       "      <td>1</td>\n",
       "      <td>0.545455</td>\n",
       "      <td>0.333333</td>\n",
       "      <td>0.413793</td>\n",
       "      <td><img data-content=\"rdkit/molecule\" src=\"data:image/png;base64,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\" alt=\"Mol\"/></td>\n",
       "    </tr>\n",
       "  </tbody>\n",
       "</table>\n",
       "</div>"
      ],
      "text/plain": [
       "        reagent  total_tgt  total_pred  total_train  correct_pred  precision  \\\n",
       "486  NCc1ccccc1          3           6           63             1   0.545455   \n",
       "\n",
       "       recall        F1                                              rdmol  \n",
       "486  0.333333  0.413793  <img data-content=\"rdkit/molecule\" src=\"data:i...  "
      ]
     },
     "execution_count": 30,
     "metadata": {},
     "output_type": "execute_result"
    }
   ],
   "source": [
    "df[df.reagent=='N C c 1 c c c c c 1'.replace(' ', '')]"
   ]
  },
  {
   "cell_type": "code",
   "execution_count": null,
   "id": "2a3d87a9-05de-4484-b2b5-a00201905be2",
   "metadata": {},
   "outputs": [],
   "source": []
  }
 ],
 "metadata": {
  "kernelspec": {
   "display_name": "Python 3 (ipykernel)",
   "language": "python",
   "name": "python3"
  },
  "language_info": {
   "codemirror_mode": {
    "name": "ipython",
    "version": 3
   },
   "file_extension": ".py",
   "mimetype": "text/x-python",
   "name": "python",
   "nbconvert_exporter": "python",
   "pygments_lexer": "ipython3",
   "version": "3.8.12"
  }
 },
 "nbformat": 4,
 "nbformat_minor": 5
}
