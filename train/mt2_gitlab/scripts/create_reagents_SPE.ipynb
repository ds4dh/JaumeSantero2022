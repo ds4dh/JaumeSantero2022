{
 "cells": [
  {
   "cell_type": "code",
   "execution_count": 21,
   "id": "cbf34645-538d-4131-a120-c3ec45d7caa2",
   "metadata": {},
   "outputs": [
    {
     "name": "stdout",
     "output_type": "stream",
     "text": [
      "Complete\n"
     ]
    }
   ],
   "source": [
    "# Load packages\n",
    "import codecs\n",
    "import numpy as np\n",
    "import pandas as pd\n",
    "from SmilesPE.tokenizer import *\n",
    "\n",
    "# Load tokenizer based on ChEMBL\n",
    "spe_vob= codecs.open('../data/ChEMBL/SPE_ChEMBL.txt')\n",
    "spe = SPE_Tokenizer(spe_vob)\n",
    "\n",
    "# Load tgt and src files\n",
    "filetype = 'train'\n",
    "path_src = '../data/MIT_reagent_pred/src-%s.txt'%(filetype)\n",
    "path_tgt = '../data/MIT_reagent_pred/tgt-%s.txt'%(filetype)\n",
    "save_path = '../data/MIT_reagent_pred_SPE/'\n",
    "src = pd.read_csv(path_src, sep='\\t', header=None).values.flatten().tolist()\n",
    "tgt = pd.read_csv(path_tgt, sep='\\t', header=None).values.flatten().tolist()\n",
    "\n",
    "# Define atom-level detokenizer\n",
    "detokenizer = lambda x: x.replace(' ','')\n",
    "\n",
    "# Generate reactant1.reactant2.product as src & reagent1.reagent2 as tgt\n",
    "reagents_tgt = []\n",
    "reactants_product_src = []\n",
    "for n in range(len(tgt)):\n",
    "    reactants_product_src.append(' . '.join([spe.tokenize(smi) for smi in detokenizer(src[n]).split('.')]))\n",
    "    reagents_tgt.append(' . '.join([spe.tokenize(smi) for smi in detokenizer(tgt[n]).split('.')]))\n",
    "    \n",
    "# Save src and tgt files\n",
    "with open(save_path+\"src-%s.txt\"%(filetype), \"w\") as outfile:\n",
    "    outfile.write(\"\\n\".join(reactants_product_src))\n",
    "with open(save_path+\"tgt-%s.txt\"%(filetype), \"w\") as outfile:\n",
    "    outfile.write(\"\\n\".join(reagents_tgt))\n",
    "    \n",
    "# EOP\n",
    "print('Complete')"
   ]
  }
 ],
 "metadata": {
  "kernelspec": {
   "display_name": "Python 3 (ipykernel)",
   "language": "python",
   "name": "python3"
  },
  "language_info": {
   "codemirror_mode": {
    "name": "ipython",
    "version": 3
   },
   "file_extension": ".py",
   "mimetype": "text/x-python",
   "name": "python",
   "nbconvert_exporter": "python",
   "pygments_lexer": "ipython3",
   "version": "3.8.12"
  }
 },
 "nbformat": 4,
 "nbformat_minor": 5
}
