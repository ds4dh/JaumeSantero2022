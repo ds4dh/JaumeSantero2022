{
 "cells": [
  {
   "cell_type": "code",
   "execution_count": 7,
   "id": "54e6def9-8a73-4d4f-aa04-b17535a88503",
   "metadata": {},
   "outputs": [
    {
     "name": "stdout",
     "output_type": "stream",
     "text": [
      "Complete\n"
     ]
    }
   ],
   "source": [
    "# Load packages\n",
    "import random\n",
    "import numpy as np\n",
    "import pandas as pd\n",
    "\n",
    "# Load tgt and src files\n",
    "filetype = 'test'\n",
    "path_src = '../../MolecularTransformer/data/MIT_reagent_pred/src-%s.txt'%(filetype)\n",
    "path_tgt = '../../MolecularTransformer/data/MIT_reagent_pred/tgt-%s.txt'%(filetype)\n",
    "save_path = '../data/MIT_reagents_class/'\n",
    "src = pd.read_csv(path_src, sep='\\t', header=None).values.flatten().tolist()\n",
    "tgt = pd.read_csv(path_tgt, sep='\\t', header=None).values.flatten().tolist()\n",
    "\n",
    "# Generate reactant1.reactant2.product as src & reagent1 as tgt\n",
    "reagents_tgt = []\n",
    "reactants_product_src = []\n",
    "for n in range(len(tgt)):\n",
    "    \n",
    "    # Split reagents and product from reactant prediction src\n",
    "    reagents = tgt[n].replace(' ','').split('.')\n",
    "    \n",
    "    # If there are no reagents do not include the reaction\n",
    "    if len(reagents) == 0:\n",
    "        continue\n",
    "        \n",
    "    for reagent in reagents:\n",
    "    \n",
    "        # Add reactants.product to list\n",
    "        reactants_product_src.append(src[n])\n",
    "\n",
    "        # Add reagents to list\n",
    "        reagents_tgt.append(reagent)\n",
    "        \n",
    "# Shuffle src & target lists\n",
    "c = list(zip(reactants_product_src, reagents_tgt))\n",
    "random.shuffle(c)\n",
    "reactants_product_src, reagents_tgt = zip(*c)\n",
    "    \n",
    "# Save src and tgt files\n",
    "with open(save_path+\"src-%s.txt\"%(filetype), \"w\") as outfile:\n",
    "    outfile.write(\"\\n\".join(reactants_product_src))\n",
    "with open(save_path+\"tgt-%s.txt\"%(filetype), \"w\") as outfile:\n",
    "    outfile.write(\"\\n\".join(reagents_tgt))\n",
    "    \n",
    "# EOP\n",
    "print('Complete')"
   ]
  }
 ],
 "metadata": {
  "kernelspec": {
   "display_name": "Python 3 (ipykernel)",
   "language": "python",
   "name": "python3"
  },
  "language_info": {
   "codemirror_mode": {
    "name": "ipython",
    "version": 3
   },
   "file_extension": ".py",
   "mimetype": "text/x-python",
   "name": "python",
   "nbconvert_exporter": "python",
   "pygments_lexer": "ipython3",
   "version": "3.8.12"
  }
 },
 "nbformat": 4,
 "nbformat_minor": 5
}
