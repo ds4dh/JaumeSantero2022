{
 "cells": [
  {
   "cell_type": "code",
   "execution_count": 96,
   "id": "3478313d-8e88-4aaa-814c-012a0cef2cc2",
   "metadata": {},
   "outputs": [],
   "source": [
    "# Load packages\n",
    "import pandas as pd\n",
    "import numpy as np\n",
    "import matplotlib.pyplot as plt\n",
    "\n",
    "# Path to data\n",
    "path_to_data = '../data/round_trip/Result.csv'\n",
    "\n",
    "# Load dataframe\n",
    "df = pd.read_csv(path_to_data)"
   ]
  },
  {
   "cell_type": "code",
   "execution_count": 100,
   "id": "64530ad7-20e1-484f-b728-6e89cf943525",
   "metadata": {},
   "outputs": [],
   "source": [
    "lmsc = df.result_msc.dropna()\n",
    "lphd = df.result_phd.dropna()"
   ]
  },
  {
   "cell_type": "code",
   "execution_count": 108,
   "id": "7cd1f779-2e04-4854-b942-f13f0a969e5a",
   "metadata": {},
   "outputs": [
    {
     "data": {
      "text/plain": [
       "(744,)"
      ]
     },
     "execution_count": 108,
     "metadata": {},
     "output_type": "execute_result"
    }
   ],
   "source": [
    "lphd.shape"
   ]
  },
  {
   "cell_type": "code",
   "execution_count": 105,
   "id": "753eae33-8c9c-4df2-beb4-1a12a3c65a41",
   "metadata": {},
   "outputs": [
    {
     "data": {
      "text/plain": [
       "0.8438948995363215"
      ]
     },
     "execution_count": 105,
     "metadata": {},
     "output_type": "execute_result"
    }
   ],
   "source": [
    "lmsc[lmsc>-1].shape[0] / lmsc.shape[0]"
   ]
  },
  {
   "cell_type": "code",
   "execution_count": 106,
   "id": "9cb66602-86ed-4094-b8ea-7dba6c9609ec",
   "metadata": {},
   "outputs": [
    {
     "data": {
      "text/plain": [
       "0.8696236559139785"
      ]
     },
     "execution_count": 106,
     "metadata": {},
     "output_type": "execute_result"
    }
   ],
   "source": [
    "lphd[lphd>-1].shape[0] / lphd.shape[0]"
   ]
  },
  {
   "cell_type": "code",
   "execution_count": 97,
   "id": "e60bd4ba-352e-46ca-a80b-ca0390d507a3",
   "metadata": {},
   "outputs": [
    {
     "data": {
      "image/png": "[encoded data removed]",
      "text/plain": [
       "<Figure size 576x360 with 1 Axes>"
      ]
     },
     "metadata": {
      "needs_background": "light"
     },
     "output_type": "display_data"
    }
   ],
   "source": [
    "fig = plt.figure(figsize=(8,5))\n",
    "ax = plt.subplot(111)\n",
    "ax.hist(df.result_phd, range=(-1,1), align='right', edgecolor='C3',\n",
    "        color='#FFC9C9', linewidth=1.5, histtype='stepfilled', label='Ph.D.')\n",
    "ax.hist(df.result_msc, range=(-1,1), align='left', edgecolor='C0',\n",
    "        color='#C9ECFF', linewidth=1.5, histtype='stepfilled', label='M.Sc.')\n",
    "ax.set_ylabel('Number of reactions', fontsize=14)\n",
    "ax.set_xlabel('Values', fontsize=14)\n",
    "ax.tick_params(labelsize=13)\n",
    "ax.set_xticks([-1,0,1])\n",
    "ax.set_xticklabels(['Wrong','Semi-correct','Correct'])\n",
    "plt.legend(ncol=2, loc=2, fontsize=13)\n",
    "plt.grid()\n",
    "\n",
    "plt.savefig('../figs/fig_rd.pdf', dpi=300, bbox_inches='tight')\n",
    "plt.savefig('../figs/fig_rd.png', dpi=300, bbox_inches='tight')\n",
    "\n",
    "plt.show()\n"
   ]
  },
  {
   "cell_type": "code",
   "execution_count": 109,
   "id": "73f3769d-578d-4072-a0cd-15a339d57e1e",
   "metadata": {},
   "outputs": [],
   "source": [
    "df_nonan = df.dropna()\n",
    "df_divergence= df_nonan[(df_nonan.result_msc != df_nonan.result_phd)]"
   ]
  },
  {
   "cell_type": "code",
   "execution_count": 110,
   "id": "086a6a21-261b-42e7-ba29-809cb3b79f48",
   "metadata": {},
   "outputs": [
    {
     "data": {
      "text/plain": [
       "(447, 4)"
      ]
     },
     "execution_count": 110,
     "metadata": {},
     "output_type": "execute_result"
    }
   ],
   "source": [
    "df_nonan.shape"
   ]
  },
  {
   "cell_type": "code",
   "execution_count": 86,
   "id": "7ab0fa35-e056-442b-9da2-2a612ea0fd25",
   "metadata": {},
   "outputs": [
    {
     "data": {
      "text/plain": [
       "(138,)"
      ]
     },
     "execution_count": 86,
     "metadata": {},
     "output_type": "execute_result"
    }
   ],
   "source": [
    "df_divergence.result_msc.values.shape"
   ]
  },
  {
   "cell_type": "code",
   "execution_count": 87,
   "id": "2c9e9ce9-41de-46c3-8295-b0ab9d0163f3",
   "metadata": {},
   "outputs": [],
   "source": [
    "phd = df_divergence.result_phd.values\n",
    "msc = df_divergence.result_msc.values"
   ]
  },
  {
   "cell_type": "code",
   "execution_count": 91,
   "id": "61466778-8af5-4882-8d5a-a230e5925f88",
   "metadata": {},
   "outputs": [
    {
     "data": {
      "text/plain": [
       "(42,)"
      ]
     },
     "execution_count": 91,
     "metadata": {},
     "output_type": "execute_result"
    }
   ],
   "source": [
    "phd[phd==1].shape"
   ]
  },
  {
   "cell_type": "code",
   "execution_count": 92,
   "id": "d77a33d6-90f2-44b2-80e2-d0ac6278d58c",
   "metadata": {},
   "outputs": [
    {
     "data": {
      "text/plain": [
       "(59,)"
      ]
     },
     "execution_count": 92,
     "metadata": {},
     "output_type": "execute_result"
    }
   ],
   "source": [
    "phd[phd==0].shape"
   ]
  },
  {
   "cell_type": "code",
   "execution_count": 93,
   "id": "f74eadb9-4e02-44a4-9fda-a63f8f439bd9",
   "metadata": {},
   "outputs": [
    {
     "data": {
      "text/plain": [
       "(37,)"
      ]
     },
     "execution_count": 93,
     "metadata": {},
     "output_type": "execute_result"
    }
   ],
   "source": [
    "phd[phd==-1].shape"
   ]
  },
  {
   "cell_type": "code",
   "execution_count": null,
   "id": "c4929a55-6fa2-40d0-84e5-35b4f460258e",
   "metadata": {},
   "outputs": [],
   "source": [
    "fig = plt.figure(figsize=(8,5))\n",
    "ax = plt.subplot(111)\n",
    "ax.hist(df.result_phd, range=(-1,1), align='right', edgecolor='C3',\n",
    "        color='#FFC9C9', linewidth=1.5, histtype='stepfilled', label='Ph.D.')\n",
    "ax.hist(df.result_msc, range=(-1,1), align='left', edgecolor='C0',\n",
    "        color='#C9ECFF', linewidth=1.5, histtype='stepfilled', label='M.Sc.')\n",
    "ax.set_ylabel('Number of reactions', fontsize=14)\n",
    "ax.set_xlabel('Values', fontsize=14)\n",
    "ax.tick_params(labelsize=13)\n",
    "ax.set_xticks([-1,0,1])\n",
    "ax.set_xticklabels(['Wrong','Semi-correct','Correct'])\n",
    "plt.legend(ncol=2, loc=2, fontsize=13)\n",
    "plt.grid()\n",
    "\n",
    "#plt.savefig('../figs/fig_rd2.pdf', dpi=300, bbox_inches='tight')\n",
    "#plt.savefig('../figs/fig_rd2.png', dpi=300, bbox_inches='tight')\n",
    "\n",
    "plt.show()"
   ]
  }
 ],
 "metadata": {
  "kernelspec": {
   "display_name": "Python 3 (ipykernel)",
   "language": "python",
   "name": "python3"
  },
  "language_info": {
   "codemirror_mode": {
    "name": "ipython",
    "version": 3
   },
   "file_extension": ".py",
   "mimetype": "text/x-python",
   "name": "python",
   "nbconvert_exporter": "python",
   "pygments_lexer": "ipython3",
   "version": "3.8.12"
  }
 },
 "nbformat": 4,
 "nbformat_minor": 5
}
