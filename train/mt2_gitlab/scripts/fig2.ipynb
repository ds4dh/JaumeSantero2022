{
 "cells": [
  {
   "cell_type": "code",
   "execution_count": 13,
   "id": "5bf656ae-4d91-46e9-a227-1ece05398f57",
   "metadata": {},
   "outputs": [
    {
     "data": {
      "text/plain": [
       "35275"
      ]
     },
     "execution_count": 13,
     "metadata": {},
     "output_type": "execute_result"
    }
   ],
   "source": [
    "# Load data science packages\n",
    "import numpy as np\n",
    "import pandas as pd\n",
    "import selfies as sf\n",
    "\n",
    "# Load argument packages\n",
    "import argparse\n",
    "import re\n",
    "\n",
    "# Load chemistry packages\n",
    "import rdkit.Chem as Chem\n",
    "import rdkit.Chem.AllChem as AllChem\n",
    "from rdkit.Chem.Draw import IPythonConsole \n",
    "from rdkit.Chem.Draw.MolDrawing import MolDrawing, DrawingOptions\n",
    "from rdkit.Chem import PandasTools\n",
    "from rdkit import RDLogger                                                                                                                                                               \n",
    "\n",
    "RDLogger.DisableLog('rdApp.*')\n",
    "PandasTools.RenderImagesInAllDataFrames(images=True)\n",
    "\n",
    "# Load visualization package and display settings\n",
    "import matplotlib.pyplot as plt\n",
    "IPythonConsole.molSize = (1000, 300)   # Change image size\n",
    "IPythonConsole.ipython_useSVG = False  # Show as PNG\n",
    "\n",
    "# Define reaction with SMILES\n",
    "smi = 'COC(=O)Cc1cn(C)c2cc(O)ccc12'\n",
    "\n",
    "# Load reaction to rdkit\n",
    "reaction = Chem.MolFromSmiles(smi)\n",
    "\n",
    "# Save reaction as PNG\n",
    "d2d = Chem.Draw.MolDraw2DCairo(2000,500)\n",
    "d2d.DrawMolecule(reaction)\n",
    "png = d2d.GetDrawingText()\n",
    "open('../figs/mol.png','wb+').write(png)"
   ]
  },
  {
   "cell_type": "code",
   "execution_count": null,
   "id": "748affa4-ad8a-4c23-a161-cfb2df7c1445",
   "metadata": {},
   "outputs": [],
   "source": []
  }
 ],
 "metadata": {
  "kernelspec": {
   "display_name": "Python 3 (ipykernel)",
   "language": "python",
   "name": "python3"
  },
  "language_info": {
   "codemirror_mode": {
    "name": "ipython",
    "version": 3
   },
   "file_extension": ".py",
   "mimetype": "text/x-python",
   "name": "python",
   "nbconvert_exporter": "python",
   "pygments_lexer": "ipython3",
   "version": "3.8.12"
  }
 },
 "nbformat": 4,
 "nbformat_minor": 5
}
